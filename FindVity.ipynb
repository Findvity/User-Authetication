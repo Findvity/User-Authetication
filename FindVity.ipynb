{
  "nbformat": 4,
  "nbformat_minor": 0,
  "metadata": {
    "colab": {
      "name": "FindVity.ipynb",
      "provenance": [],
      "collapsed_sections": []
    },
    "kernelspec": {
      "name": "python3",
      "display_name": "Python 3"
    },
    "accelerator": "GPU"
  },
  "cells": [
    {
      "cell_type": "code",
      "metadata": {
        "id": "v460nznQESKI",
        "outputId": "a41ed67c-1624-4426-9ebf-3ef67690936c",
        "colab": {
          "base_uri": "https://localhost:8080/",
          "height": 306
        }
      },
      "source": [
        "!pip install face_recognition"
      ],
      "execution_count": 1,
      "outputs": [
        {
          "output_type": "stream",
          "text": [
            "Collecting face_recognition\n",
            "  Downloading https://files.pythonhosted.org/packages/1e/95/f6c9330f54ab07bfa032bf3715c12455a381083125d8880c43cbe76bb3d0/face_recognition-1.3.0-py2.py3-none-any.whl\n",
            "Requirement already satisfied: dlib>=19.7 in /usr/local/lib/python3.6/dist-packages (from face_recognition) (19.18.0)\n",
            "Requirement already satisfied: numpy in /usr/local/lib/python3.6/dist-packages (from face_recognition) (1.18.5)\n",
            "Requirement already satisfied: Click>=6.0 in /usr/local/lib/python3.6/dist-packages (from face_recognition) (7.1.2)\n",
            "Requirement already satisfied: Pillow in /usr/local/lib/python3.6/dist-packages (from face_recognition) (7.0.0)\n",
            "Collecting face-recognition-models>=0.3.0\n",
            "\u001b[?25l  Downloading https://files.pythonhosted.org/packages/cf/3b/4fd8c534f6c0d1b80ce0973d01331525538045084c73c153ee6df20224cf/face_recognition_models-0.3.0.tar.gz (100.1MB)\n",
            "\u001b[K     |████████████████████████████████| 100.2MB 42kB/s \n",
            "\u001b[?25hBuilding wheels for collected packages: face-recognition-models\n",
            "  Building wheel for face-recognition-models (setup.py) ... \u001b[?25l\u001b[?25hdone\n",
            "  Created wheel for face-recognition-models: filename=face_recognition_models-0.3.0-py2.py3-none-any.whl size=100566173 sha256=f7e888c0bec08df10b728bb4d93912787d047ba2aed51c2d9a40947ff2e29111\n",
            "  Stored in directory: /root/.cache/pip/wheels/d2/99/18/59c6c8f01e39810415c0e63f5bede7d83dfb0ffc039865465f\n",
            "Successfully built face-recognition-models\n",
            "Installing collected packages: face-recognition-models, face-recognition\n",
            "Successfully installed face-recognition-1.3.0 face-recognition-models-0.3.0\n"
          ],
          "name": "stdout"
        }
      ]
    },
    {
      "cell_type": "code",
      "metadata": {
        "id": "CYxmNkwqElhe",
        "outputId": "77f9a3a6-5b83-4421-8ef8-4cd40368391b",
        "colab": {
          "base_uri": "https://localhost:8080/",
          "height": 588
        }
      },
      "source": [
        "!apt update\n",
        "!apt install -y cmake\n",
        "!pip install dlib"
      ],
      "execution_count": 2,
      "outputs": [
        {
          "output_type": "stream",
          "text": [
            "\u001b[33m\r0% [Working]\u001b[0m\r            \rGet:1 https://cloud.r-project.org/bin/linux/ubuntu bionic-cran40/ InRelease [3,626 B]\n",
            "\u001b[33m\r0% [Connecting to archive.ubuntu.com (91.189.88.152)] [Connecting to security.u\u001b[0m\u001b[33m\r0% [Connecting to archive.ubuntu.com (91.189.88.152)] [Connecting to security.u\u001b[0m\u001b[33m\r0% [1 InRelease gpgv 3,626 B] [Connecting to archive.ubuntu.com (91.189.88.152)\u001b[0m\r                                                                               \rIgn:2 https://developer.download.nvidia.com/compute/cuda/repos/ubuntu1804/x86_64  InRelease\n",
            "\u001b[33m\r0% [1 InRelease gpgv 3,626 B] [Connecting to archive.ubuntu.com (91.189.88.152)\u001b[0m\r                                                                               \rIgn:3 https://developer.download.nvidia.com/compute/machine-learning/repos/ubuntu1804/x86_64  InRelease\n",
            "\u001b[33m\r0% [1 InRelease gpgv 3,626 B] [Connecting to archive.ubuntu.com (91.189.88.152)\u001b[0m\r                                                                               \rGet:4 https://developer.download.nvidia.com/compute/cuda/repos/ubuntu1804/x86_64  Release [697 B]\n",
            "\u001b[33m\r0% [1 InRelease gpgv 3,626 B] [Connecting to archive.ubuntu.com (91.189.88.152)\u001b[0m\r                                                                               \rHit:5 https://developer.download.nvidia.com/compute/machine-learning/repos/ubuntu1804/x86_64  Release\n",
            "\u001b[33m\r0% [1 InRelease gpgv 3,626 B] [Waiting for headers] [Waiting for headers] [Wait\u001b[0m\r                                                                               \rGet:6 http://security.ubuntu.com/ubuntu bionic-security InRelease [88.7 kB]\n",
            "Get:7 https://developer.download.nvidia.com/compute/cuda/repos/ubuntu1804/x86_64  Release.gpg [836 B]\n",
            "Hit:8 http://archive.ubuntu.com/ubuntu bionic InRelease\n",
            "Get:9 http://ppa.launchpad.net/c2d4u.team/c2d4u4.0+/ubuntu bionic InRelease [15.9 kB]\n",
            "Get:10 http://archive.ubuntu.com/ubuntu bionic-updates InRelease [88.7 kB]\n",
            "Ign:12 https://developer.download.nvidia.com/compute/cuda/repos/ubuntu1804/x86_64  Packages\n",
            "Get:12 https://developer.download.nvidia.com/compute/cuda/repos/ubuntu1804/x86_64  Packages [335 kB]\n",
            "Hit:13 http://ppa.launchpad.net/graphics-drivers/ppa/ubuntu bionic InRelease\n",
            "Get:14 http://archive.ubuntu.com/ubuntu bionic-backports InRelease [74.6 kB]\n",
            "Get:15 http://security.ubuntu.com/ubuntu bionic-security/main amd64 Packages [1,733 kB]\n",
            "Get:16 http://ppa.launchpad.net/c2d4u.team/c2d4u4.0+/ubuntu bionic/main Sources [1,681 kB]\n",
            "Get:17 http://security.ubuntu.com/ubuntu bionic-security/universe amd64 Packages [1,348 kB]\n",
            "Get:18 http://security.ubuntu.com/ubuntu bionic-security/multiverse amd64 Packages [15.0 kB]\n",
            "Get:19 http://archive.ubuntu.com/ubuntu bionic-updates/multiverse amd64 Packages [45.5 kB]\n",
            "Get:20 http://archive.ubuntu.com/ubuntu bionic-updates/main amd64 Packages [2,150 kB]\n",
            "Get:21 http://archive.ubuntu.com/ubuntu bionic-updates/restricted amd64 Packages [231 kB]\n",
            "Get:22 http://archive.ubuntu.com/ubuntu bionic-updates/universe amd64 Packages [2,112 kB]\n",
            "Get:23 http://ppa.launchpad.net/c2d4u.team/c2d4u4.0+/ubuntu bionic/main amd64 Packages [860 kB]\n",
            "Fetched 10.8 MB in 4s (3,074 kB/s)\n",
            "Reading package lists... Done\n",
            "Building dependency tree       \n",
            "Reading state information... Done\n",
            "21 packages can be upgraded. Run 'apt list --upgradable' to see them.\n",
            "Reading package lists... Done\n",
            "Building dependency tree       \n",
            "Reading state information... Done\n",
            "cmake is already the newest version (3.10.2-1ubuntu2.18.04.1).\n",
            "0 upgraded, 0 newly installed, 0 to remove and 21 not upgraded.\n",
            "Requirement already satisfied: dlib in /usr/local/lib/python3.6/dist-packages (19.18.0)\n"
          ],
          "name": "stdout"
        }
      ]
    },
    {
      "cell_type": "code",
      "metadata": {
        "id": "Rb1nTzCb5xbJ",
        "outputId": "aed9b553-be54-4dfd-f20b-8bcbd908a167",
        "colab": {
          "base_uri": "https://localhost:8080/",
          "height": 773
        }
      },
      "source": [
        "!sudo apt install tesseract-ocr\n",
        "!pip install pytesseract"
      ],
      "execution_count": 3,
      "outputs": [
        {
          "output_type": "stream",
          "text": [
            "Reading package lists... Done\n",
            "Building dependency tree       \n",
            "Reading state information... Done\n",
            "The following additional packages will be installed:\n",
            "  tesseract-ocr-eng tesseract-ocr-osd\n",
            "The following NEW packages will be installed:\n",
            "  tesseract-ocr tesseract-ocr-eng tesseract-ocr-osd\n",
            "0 upgraded, 3 newly installed, 0 to remove and 21 not upgraded.\n",
            "Need to get 4,795 kB of archives.\n",
            "After this operation, 15.8 MB of additional disk space will be used.\n",
            "Get:1 http://archive.ubuntu.com/ubuntu bionic/universe amd64 tesseract-ocr-eng all 4.00~git24-0e00fe6-1.2 [1,588 kB]\n",
            "Get:2 http://archive.ubuntu.com/ubuntu bionic/universe amd64 tesseract-ocr-osd all 4.00~git24-0e00fe6-1.2 [2,989 kB]\n",
            "Get:3 http://archive.ubuntu.com/ubuntu bionic/universe amd64 tesseract-ocr amd64 4.00~git2288-10f4998a-2 [218 kB]\n",
            "Fetched 4,795 kB in 2s (3,020 kB/s)\n",
            "debconf: unable to initialize frontend: Dialog\n",
            "debconf: (No usable dialog-like program is installed, so the dialog based frontend cannot be used. at /usr/share/perl5/Debconf/FrontEnd/Dialog.pm line 76, <> line 3.)\n",
            "debconf: falling back to frontend: Readline\n",
            "debconf: unable to initialize frontend: Readline\n",
            "debconf: (This frontend requires a controlling tty.)\n",
            "debconf: falling back to frontend: Teletype\n",
            "dpkg-preconfigure: unable to re-open stdin: \n",
            "Selecting previously unselected package tesseract-ocr-eng.\n",
            "(Reading database ... 144611 files and directories currently installed.)\n",
            "Preparing to unpack .../tesseract-ocr-eng_4.00~git24-0e00fe6-1.2_all.deb ...\n",
            "Unpacking tesseract-ocr-eng (4.00~git24-0e00fe6-1.2) ...\n",
            "Selecting previously unselected package tesseract-ocr-osd.\n",
            "Preparing to unpack .../tesseract-ocr-osd_4.00~git24-0e00fe6-1.2_all.deb ...\n",
            "Unpacking tesseract-ocr-osd (4.00~git24-0e00fe6-1.2) ...\n",
            "Selecting previously unselected package tesseract-ocr.\n",
            "Preparing to unpack .../tesseract-ocr_4.00~git2288-10f4998a-2_amd64.deb ...\n",
            "Unpacking tesseract-ocr (4.00~git2288-10f4998a-2) ...\n",
            "Setting up tesseract-ocr-osd (4.00~git24-0e00fe6-1.2) ...\n",
            "Setting up tesseract-ocr-eng (4.00~git24-0e00fe6-1.2) ...\n",
            "Setting up tesseract-ocr (4.00~git2288-10f4998a-2) ...\n",
            "Processing triggers for man-db (2.8.3-2ubuntu0.1) ...\n",
            "Collecting pytesseract\n",
            "  Downloading https://files.pythonhosted.org/packages/17/4b/4dbd55388225bb6cd243d21f70e77cb3ce061e241257485936324b8e920f/pytesseract-0.3.6.tar.gz\n",
            "Requirement already satisfied: Pillow in /usr/local/lib/python3.6/dist-packages (from pytesseract) (7.0.0)\n",
            "Building wheels for collected packages: pytesseract\n",
            "  Building wheel for pytesseract (setup.py) ... \u001b[?25l\u001b[?25hdone\n",
            "  Created wheel for pytesseract: filename=pytesseract-0.3.6-py2.py3-none-any.whl size=13629 sha256=719af189e62a0d406003acd8770e133f464c7165d5bfc004392dc84a9a2e7dcb\n",
            "  Stored in directory: /root/.cache/pip/wheels/ee/71/72/b98430261d849ae631e283dfc7ccb456a3fb2ed2205714b63f\n",
            "Successfully built pytesseract\n",
            "Installing collected packages: pytesseract\n",
            "Successfully installed pytesseract-0.3.6\n"
          ],
          "name": "stdout"
        }
      ]
    },
    {
      "cell_type": "code",
      "metadata": {
        "id": "bjlLJWOpLmW7"
      },
      "source": [
        "# from google.colab import files\n",
        "# uploaded = files.upload()"
      ],
      "execution_count": 4,
      "outputs": []
    },
    {
      "cell_type": "code",
      "metadata": {
        "id": "EGseiAWO6FgT"
      },
      "source": [
        " #!/usr/bin/env python\n",
        "import os\n",
        "import os.path\n",
        "import json\n",
        "import sys\n",
        "import pytesseract\n",
        "import re\n",
        "import csv\n",
        "import dateutil.parser as dparser\n",
        "from PIL import Image\n",
        "import shutil\n",
        "import random\n",
        "import numpy as np\n",
        "import cv2\n",
        "import os,glob\n",
        "import face_recognition\n",
        "from google.colab.patches import cv2_imshow\n",
        "import cv2\n",
        "from IPython.display import display, Javascript\n",
        "from google.colab.output import eval_js\n",
        "from base64 import b64decode"
      ],
      "execution_count": 5,
      "outputs": []
    },
    {
      "cell_type": "code",
      "metadata": {
        "id": "6jCeXU1hDFNG"
      },
      "source": [
        "def findencoding(cropped):\n",
        "    cropped=cv2.cvtColor(cropped, cv2.COLOR_BGR2RGB)\n",
        "    encode=face_recognition.face_encodings(cropped)\n",
        "    return(encode)"
      ],
      "execution_count": 6,
      "outputs": []
    },
    {
      "cell_type": "code",
      "metadata": {
        "id": "ReHGGEx6DJoQ"
      },
      "source": [
        "def read_img(p):\n",
        "    # img = Image.open(p)\n",
        "    # display(img)\n",
        "    img=cv2.imread(p)\n",
        "    (h,w)=img.shape[:2]\n",
        "    width=500\n",
        "    ratio=width/float(w)\n",
        "    height=int(h*ratio)\n",
        "    return cv2.resize(img, (width, height))"
      ],
      "execution_count": 7,
      "outputs": []
    },
    {
      "cell_type": "code",
      "metadata": {
        "id": "Q0D6YiW4EXV8"
      },
      "source": [
        "# todo: move to function\n",
        "def verify_person(year_of_birth,person_gender,photo_id,photo_clicked)->dict:\n",
        "  img=Image.open(photo_id)\n",
        "  img = img.convert('RGBA')\n",
        "  pix = img.load()\n",
        "\n",
        "  for y in range(img.size[1]):\n",
        "      for x in range(img.size[0]):\n",
        "          if pix[x, y][0] < 102 or pix[x, y][1] < 102 or pix[x, y][2] < 102:\n",
        "              pix[x, y] = (0, 0, 0, 255)\n",
        "          else:\n",
        "              pix[x, y] = (255, 255, 255, 255)\n",
        "\n",
        "  # img.save('/content/temp.png')\n",
        "\n",
        "  pytesseract.pytesseract.tesseract_cmd = (\n",
        "      r'/usr/bin/tesseract'\n",
        "  )\n",
        "\n",
        "  image_path_in_colab=photo_id\n",
        "  text = pytesseract.image_to_string(Image.open(photo_id))\n",
        "\n",
        "  print(text)\n",
        "\n",
        "  yearline = []\n",
        "  genline = []\n",
        "  text1 = []\n",
        "  text2 = []\n",
        "  genderStr = '(Female|Male|emale|male|ale|FEMALE|MALE|EMALE)$'\n",
        "  lines = text\n",
        "\n",
        "  for wordlist in lines.split('\\n'):\n",
        "      xx = wordlist.split()\n",
        "      if [w for w in xx if re.search('(Year|Birth|irth|YoB|YOB:|DOB:|DOB)$', w)]:\n",
        "          yearline = wordlist\n",
        "          break\n",
        "      else:\n",
        "          text1.append(wordlist)\n",
        "  try:\n",
        "      text2 = text.split(yearline, 1)[1]\n",
        "  except Exception:\n",
        "      pass\n",
        "\n",
        "\n",
        "  try:\n",
        "      yearline = re.split('Year of Birth|Birth|irth|YoB|YOB:|DOB:|DOB', yearline)[1:]\n",
        "      yearline = ''.join(str(e) for e in yearline)\n",
        "      if yearline:\n",
        "          ayear = dparser.parse(yearline, fuzzy=True).year\n",
        "  except Exception:\n",
        "      pass\n",
        "  birth=yearline[1::]\n",
        "\n",
        "  ans_dict = {}\n",
        "\n",
        "  ans_dict[\"yob\"]=birth\n",
        "\n",
        "  # Searching for Gender\n",
        "  try:\n",
        "      for wordlist in lines.split('\\n'):\n",
        "          xx = wordlist.split()\n",
        "          if [w for w in xx if re.search(genderStr, w)]:\n",
        "              genline = wordlist\n",
        "              break \n",
        "\n",
        "      if 'Female' in genline or 'FEMALE' in genline:\n",
        "          gender = \"Female\"\n",
        "      if 'Male' in genline or 'MALE' in genline:\n",
        "          gender = \"Male\"\n",
        "\n",
        "      text2 = text.split(genline, 1)[1]\n",
        "  except Exception:\n",
        "      gender = \"Other\"\n",
        "  \n",
        "  ans_dict[\"gender\"]=gender\n",
        "\n",
        "  image = cv2.imread(photo_id)\n",
        "  cropped = image[180:400, 200:400]\n",
        "  cv2_imshow(cropped)\n",
        "  cv2.waitKey(0)\n",
        "\n",
        "  encodelistknown=findencoding(cropped)\n",
        "\n",
        "  p=photo_clicked\n",
        "  imgs=read_img(p)\n",
        "  imgs=cv2.cvtColor(imgs, cv2.COLOR_BGR2RGB)\n",
        "\n",
        "  facescurrframe=face_recognition.face_locations(imgs)\n",
        "  encodecurrframe=face_recognition.face_encodings(imgs,facescurrframe)\n",
        "\n",
        "  for encodeface,faceloc in zip(encodecurrframe, facescurrframe):\n",
        "    matches=face_recognition.compare_faces(encodelistknown, encodeface)\n",
        "    facedistance=face_recognition.face_distance(encodelistknown, encodeface)\n",
        "\n",
        "  if (str(year_of_birth) == str(birth) and facedistance<0.5):\n",
        "    # TODO: add to response\n",
        "    print(\"Authentication Passed\")\n",
        "    ans_dict[\"verified\"]=True\n",
        "  else:\n",
        "    # TODO: add to response\n",
        "    # print(\"Enter the Correct information \")\n",
        "    ans_dict[\"verified\"]=False\n",
        "  \n",
        "  return ans_dict"
      ],
      "execution_count": 8,
      "outputs": []
    },
    {
      "cell_type": "code",
      "metadata": {
        "id": "EKIQi0gbtWMe",
        "outputId": "a8f2ec4f-36f7-452f-844d-76d9893aa231",
        "colab": {
          "base_uri": "https://localhost:8080/",
          "height": 34
        }
      },
      "source": [
        "import socket\n",
        "print(socket.gethostbyname(socket.gethostname()))"
      ],
      "execution_count": 9,
      "outputs": [
        {
          "output_type": "stream",
          "text": [
            "172.28.0.2\n"
          ],
          "name": "stdout"
        }
      ]
    },
    {
      "cell_type": "code",
      "metadata": {
        "id": "Yhxr5Opx-Bdz",
        "outputId": "b81149d4-749c-4a13-9989-39b771f629c1",
        "colab": {
          "base_uri": "https://localhost:8080/",
          "height": 269
        }
      },
      "source": [
        "import flask\n",
        "!pip install flask-ngrok"
      ],
      "execution_count": 10,
      "outputs": [
        {
          "output_type": "stream",
          "text": [
            "Collecting flask-ngrok\n",
            "  Downloading https://files.pythonhosted.org/packages/af/6c/f54cb686ad1129e27d125d182f90f52b32f284e6c8df58c1bae54fa1adbc/flask_ngrok-0.0.25-py3-none-any.whl\n",
            "Requirement already satisfied: requests in /usr/local/lib/python3.6/dist-packages (from flask-ngrok) (2.23.0)\n",
            "Requirement already satisfied: Flask>=0.8 in /usr/local/lib/python3.6/dist-packages (from flask-ngrok) (1.1.2)\n",
            "Requirement already satisfied: chardet<4,>=3.0.2 in /usr/local/lib/python3.6/dist-packages (from requests->flask-ngrok) (3.0.4)\n",
            "Requirement already satisfied: urllib3!=1.25.0,!=1.25.1,<1.26,>=1.21.1 in /usr/local/lib/python3.6/dist-packages (from requests->flask-ngrok) (1.24.3)\n",
            "Requirement already satisfied: certifi>=2017.4.17 in /usr/local/lib/python3.6/dist-packages (from requests->flask-ngrok) (2020.6.20)\n",
            "Requirement already satisfied: idna<3,>=2.5 in /usr/local/lib/python3.6/dist-packages (from requests->flask-ngrok) (2.10)\n",
            "Requirement already satisfied: Werkzeug>=0.15 in /usr/local/lib/python3.6/dist-packages (from Flask>=0.8->flask-ngrok) (1.0.1)\n",
            "Requirement already satisfied: Jinja2>=2.10.1 in /usr/local/lib/python3.6/dist-packages (from Flask>=0.8->flask-ngrok) (2.11.2)\n",
            "Requirement already satisfied: click>=5.1 in /usr/local/lib/python3.6/dist-packages (from Flask>=0.8->flask-ngrok) (7.1.2)\n",
            "Requirement already satisfied: itsdangerous>=0.24 in /usr/local/lib/python3.6/dist-packages (from Flask>=0.8->flask-ngrok) (1.1.0)\n",
            "Requirement already satisfied: MarkupSafe>=0.23 in /usr/local/lib/python3.6/dist-packages (from Jinja2>=2.10.1->Flask>=0.8->flask-ngrok) (1.1.1)\n",
            "Installing collected packages: flask-ngrok\n",
            "Successfully installed flask-ngrok-0.0.25\n"
          ],
          "name": "stdout"
        }
      ]
    },
    {
      "cell_type": "code",
      "metadata": {
        "id": "FtNs-pEg-DxV"
      },
      "source": [
        "from flask import Flask, jsonify, make_response, request\n",
        "from flask_ngrok import run_with_ngrok\n",
        "import threading\n",
        "from flask import json"
      ],
      "execution_count": 11,
      "outputs": []
    },
    {
      "cell_type": "code",
      "metadata": {
        "id": "-KOOQQUe-GM7"
      },
      "source": [
        "app=Flask(__name__)\n",
        "run_with_ngrok(app)\n",
        "app.config['UPLOAD_FOLDER'] = './'\n"
      ],
      "execution_count": 12,
      "outputs": []
    },
    {
      "cell_type": "code",
      "metadata": {
        "id": "MLoBb0n--Jx2",
        "outputId": "af7d7979-78dc-4cea-99a5-c46ae17d01a6",
        "colab": {
          "base_uri": "https://localhost:8080/",
          "height": 707
        }
      },
      "source": [
        "@app.route('/idverify',methods=['POST'])\n",
        "def idverify():\n",
        "  try:\n",
        "    form_data = request.form\n",
        "    photo_id_img = request.files['photo_id']\n",
        "    photo_clicked_img = request.files['photo_clicked']\n",
        "\n",
        "    photo_id_img.save(os.path.join(app.config['UPLOAD_FOLDER'], photo_id_img.filename))\n",
        "    photo_clicked_img.save(os.path.join(app.config['UPLOAD_FOLDER'], photo_clicked_img.filename))\n",
        "\n",
        "    response_dic = verify_person(form_data['yob'],\n",
        "                                 form_data['gender'],\n",
        "                                 photo_id_img.filename,\n",
        "                                 photo_clicked_img.filename)\n",
        "    response = app.response_class(\n",
        "          response=json.dumps(response_dic),\n",
        "          status=200,\n",
        "          mimetype='application/json'\n",
        "      )\n",
        "    return (response)\n",
        "\n",
        "  except Exception as e:\n",
        "    print(e)\n",
        "    response = app.response_class(\n",
        "          response=json.dumps({\"error\":\"error verifying user\"}),\n",
        "          status=500,\n",
        "          mimetype='application/json'\n",
        "    )\n",
        "    return response\n",
        "  \n",
        "  try: \n",
        "    os.remove(photo_clicked_img.filename)\n",
        "    os.remove(photo_id.filename)\n",
        "  except Exception as e:\n",
        "    print(e)\n",
        "\n",
        "app.run()"
      ],
      "execution_count": null,
      "outputs": [
        {
          "output_type": "stream",
          "text": [
            " * Serving Flask app \"__main__\" (lazy loading)\n",
            " * Environment: production\n",
            "\u001b[31m   WARNING: This is a development server. Do not use it in a production deployment.\u001b[0m\n",
            "\u001b[2m   Use a production WSGI server instead.\u001b[0m\n",
            " * Debug mode: off\n"
          ],
          "name": "stdout"
        },
        {
          "output_type": "stream",
          "text": [
            " * Running on http://127.0.0.1:5000/ (Press CTRL+C to quit)\n"
          ],
          "name": "stderr"
        },
        {
          "output_type": "stream",
          "text": [
            " * Running on http://2064325659ce.ngrok.io\n",
            " * Traffic stats available on http://127.0.0.1:4040\n"
          ],
          "name": "stdout"
        },
        {
          "output_type": "stream",
          "text": [
            "127.0.0.1 - - [18/Oct/2020 19:44:48] \"\u001b[35m\u001b[1mPOST /idverify HTTP/1.1\u001b[0m\" 500 -\n"
          ],
          "name": "stderr"
        },
        {
          "output_type": "stream",
          "text": [
            "400 Bad Request: The browser (or proxy) sent a request that this server could not understand.\n",
            "ART AHL\n",
            "\n",
            ".\n",
            "_ “QRVSGovERNMENT OF INDIA\n",
            "TaN acear\n",
            "\n",
            "Vasudha Tapriya\n",
            "tar : dre arasar\n",
            "Father : Sandeep Tapriya\n",
            "\n",
            "3A af / Year of Birth 1999\n",
            "\n",
            "afgat / Female\n",
            "\n",
            " \n",
            "\f\n"
          ],
          "name": "stdout"
        },
        {
          "output_type": "display_data",
          "data": {
            "image/png": "[encoded data removed]",
            "text/plain": [
              "<PIL.Image.Image image mode=RGB size=200x220 at 0x7FADF05C4F60>"
            ]
          },
          "metadata": {
            "tags": []
          }
        },
        {
          "output_type": "stream",
          "text": [
            "127.0.0.1 - - [18/Oct/2020 19:45:57] \"\u001b[37mPOST /idverify HTTP/1.1\u001b[0m\" 200 -\n"
          ],
          "name": "stderr"
        },
        {
          "output_type": "stream",
          "text": [
            "Authentication Passed\n"
          ],
          "name": "stdout"
        }
      ]
    },
    {
      "cell_type": "code",
      "metadata": {
        "id": "QavDAgw--nl0"
      },
      "source": [
        ""
      ],
      "execution_count": null,
      "outputs": []
    }
  ]
}